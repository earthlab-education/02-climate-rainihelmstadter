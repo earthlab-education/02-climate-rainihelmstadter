{
 "cells": [
  {
   "cell_type": "markdown",
   "id": "5f88bd2b",
   "metadata": {},
   "source": [
    "\n",
    "# Climate Change in Bozeman, Montana\n",
    "\n",
    "This notebook will analyze temperature data in Bozeman, MT to investigate for a warming trend due to climate change. I am using data from the GHCND dataset from NCEI - Station ID (USC00241044). I'll be using a simple linear regression to do this analysis, which certainly has limitations, but is a good place to start.\n",
    "\n",
    "The conditions for linear OLS regression are largely met by my data: \n",
    "- Temperature is a constantly fluctuating value, rather than something precipitation or wind speed, so it is safe to assume it is normally distributed. In addition, by aggregating the data to an annual mean, I have further reduced the potential impact of extreme values. \n",
    "- The warming I expect to see should be fairly linear, given that climate change is slow moving, relative to an annual scale. We may want to move to a polynomial fit, but linear regression is a good place to start. \n",
    "- Lastly, while Bozeman is probably influenced by hysteresis in the climate system to some extent (e.g. ice caps, oceanic teleconnections), the anomaly potentially introduced is likely negligible at this point, so we can assume the data are stationary.\n",
    "\n",
    "If time allows, I'd also like to investigate snowfall amounts for a climate change signal. However, that will be a little bit harder, as precipitation data on a daily scale is a non-Gaussian data product.\n"
   ]
  },
  {
   "cell_type": "code",
   "execution_count": null,
   "id": "cc102e09",
   "metadata": {},
   "outputs": [],
   "source": [
    "# Import libraries (all that will be needed for this project)\n",
    "\n",
    "import earthpy # local data management\n",
    "import pandas as pd\n",
    "import numpy as np\n",
    "import hvplot.pandas # For making an interactive plot\n",
    "import holoviews as hv\n",
    "import matplotlib.pyplot as plt # advanced plotting options\n",
    "import seaborn as sns # statistical plots for tabular data\n",
    "# Fit an OLS linear regression\n",
    "from sklearn.linear_model import LinearRegression\n",
    "\n",
    "print('Done!')"
   ]
  },
  {
   "cell_type": "markdown",
   "id": "1392c9c4",
   "metadata": {},
   "source": [
    "## Import the Data and Organize into a DataFrame\n"
   ]
  },
  {
   "cell_type": "code",
   "execution_count": null,
   "id": "b605c443",
   "metadata": {},
   "outputs": [],
   "source": [
    "# Access Observed Temperature data from the Bozeman Weather station\n",
    "\n",
    "bzn_tobs_url = ('https://www.ncei.noaa.gov/access/services/da'\n",
    "'ta/v1?dataset=daily-summaries&dataTypes=TOBS&stations=USC00241044&'\n",
    "'startDate=1892-04-08&endDate=2025-09-25&units=standard')\n",
    "\n",
    "\n",
    "bzn_tobs_url"
   ]
  },
  {
   "cell_type": "code",
   "execution_count": null,
   "id": "475113dd",
   "metadata": {},
   "outputs": [],
   "source": [
    "# Download the climate data\n",
    "# I'm storing the Tobs data in bzn_t_df_raw\n",
    "bzn_t_raw_df = pd.read_csv(\n",
    "    bzn_tobs_url,\n",
    "    index_col='DATE',\n",
    "    parse_dates=True,\n",
    "    na_values=['NaN']\n",
    ")\n",
    "\n",
    "# Check that the download worked\n",
    "bzn_t_raw_df.tail()"
   ]
  },
  {
   "cell_type": "code",
   "execution_count": null,
   "id": "6d2b8b04",
   "metadata": {},
   "outputs": [],
   "source": [
    "# Save the climate data for later use\n",
    "\n",
    "bzn_t_raw_df.to_csv('bozeman_tobs_1892-2025')"
   ]
  },
  {
   "cell_type": "markdown",
   "id": "91be98ab",
   "metadata": {},
   "source": [
    "\n",
    "## Plot the data to start looking at them\n"
   ]
  },
  {
   "cell_type": "code",
   "execution_count": null,
   "id": "5ccf40b4",
   "metadata": {},
   "outputs": [],
   "source": [
    "# Check that the data were imported to a DataFrame\n",
    "\n",
    "type(bzn_t_raw_df)"
   ]
  },
  {
   "cell_type": "code",
   "execution_count": null,
   "id": "39349f08",
   "metadata": {},
   "outputs": [],
   "source": [
    "# Plot the data as a histogram to check that NaNs were imported correctly\n",
    "\n",
    "bzn_t_raw_df.plot.hist()"
   ]
  },
  {
   "cell_type": "code",
   "execution_count": null,
   "id": "3f7db688",
   "metadata": {},
   "outputs": [],
   "source": [
    "# Plot data as a line plot\n",
    "\n",
    "bzn_t_raw_df.plot(\n",
    "    y= 'TOBS',\n",
    "    title='Daily Temperature in Bozeman, MT',\n",
    "    xlabel='Year',\n",
    "    ylabel='Temperature ($^\\circ$F)',\n",
    "    legend=False\n",
    "    )"
   ]
  },
  {
   "cell_type": "markdown",
   "id": "f7559846",
   "metadata": {},
   "source": [
    "### First Glance Interpretation\n",
    "\n",
    "There are two interesting things in this dataset. \n",
    "\n",
    "First, there is what must be a wildly erroneous value of nearly 200&deg;F between 1940 and 1950. This error should be minimized by working with the annual mean.\n",
    "\n",
    "Second, from the beginning of the timeseries to roughly 1950 there are almost no temperatures close to 0 &deg;F, which I doubt is accurate. This will require some digging into to figure out what's going on and how to address this."
   ]
  },
  {
   "cell_type": "markdown",
   "id": "d159ca0d",
   "metadata": {},
   "source": [
    "## Data Cleaning\n",
    "\n",
    "I'll need to clean the dataset up a little bit to make it easier to work with. I need to:\n",
    "- Remove the station ID\n",
    "- Remove NaNs\n",
    "- Adds a column converted to Celcius\n",
    "- Remove years with large amounts of missing data\n",
    "\n",
    "Removing the years with missing data is the most concerning and challenging step. Here's why I'm doing this:\n",
    "\n",
    "The first line plot shows that there is something weird going on in the first part of the 1900s in the dataset. Using an extension (DataWrangler, from Microsoft), I've taken a look at the beginning of the dataset, and each year until 1933 is missing at least a month of data - often multiple months at a time. So, it seems fairly reasonable to exlude any data from before 1933, as the data aren't reliable enough to make an sort of statistical analysis. In addition, I've got information from most of 2025, but not all, so we'll want to exclude that.\n"
   ]
  },
  {
   "cell_type": "code",
   "execution_count": null,
   "id": "b2a3e2f0",
   "metadata": {},
   "outputs": [],
   "source": [
    "# Clean up the DataFrame items and labels\n",
    "\n",
    "# This step removes Station ID name as we don't need it in the DF,\n",
    "# removes years with many NaNs, it renames 'TOBS' to temp_f, \n",
    "# and adds a column converted to Celsius.\n",
    "\n",
    "bzn_t_int_df = bzn_t_raw_df[['TOBS']]\n",
    "bzn_t_df = bzn_t_int_df[(\n",
    "    pd.to_datetime(bzn_t_raw_df.index).year >= 1933) \n",
    "    & \n",
    "    (pd.to_datetime(bzn_t_raw_df.index).year <= 2024)]\n",
    "bzn_t_df = bzn_t_df.dropna()\n",
    "bzn_t_df = bzn_t_df.rename(columns={'TOBS':'temp_f'})\n",
    "bzn_t_df['temp_c'] = (bzn_t_df['temp_f'] - 32) * (5 / 9)\n",
    "bzn_t_df"
   ]
  },
  {
   "cell_type": "markdown",
   "id": "7e175191",
   "metadata": {},
   "source": [
    "## Plotting the Data"
   ]
  },
  {
   "cell_type": "code",
   "execution_count": null,
   "id": "a10eab6a",
   "metadata": {},
   "outputs": [],
   "source": [
    "# Plot data as a line plot\n",
    "\n",
    "bzn_t_df.plot(\n",
    "    y= 'temp_f',\n",
    "    title='Daily Temperature in Bozeman, MT',\n",
    "    xlabel='Year',\n",
    "    ylabel='Temperature ($^\\circ$F)',\n",
    "    legend=False\n",
    "    )"
   ]
  },
  {
   "cell_type": "markdown",
   "id": "216f2489",
   "metadata": {},
   "source": [
    "This plot looks much more like what I'd expect to see."
   ]
  },
  {
   "cell_type": "markdown",
   "id": "1249a77b",
   "metadata": {},
   "source": [
    "\n",
    "## Resample the data to an annual mean and plot interactively\n"
   ]
  },
  {
   "cell_type": "code",
   "execution_count": null,
   "id": "0d20360a",
   "metadata": {},
   "outputs": [],
   "source": [
    "# Resample the data\n",
    "\n",
    "bzn_t_ann_df = bzn_t_df.resample('YE').mean()\n",
    "bzn_t_ann_df"
   ]
  },
  {
   "cell_type": "code",
   "execution_count": null,
   "id": "07a91a41",
   "metadata": {},
   "outputs": [],
   "source": [
    "# Plot the data to make sure this looks better\n",
    "\n",
    "bzn_t_ann_plot = bzn_t_ann_df.plot(\n",
    "    y= 'temp_f',\n",
    "    title='Daily Temperature in Bozeman, MT',\n",
    "    xlabel='Year',\n",
    "    ylabel='Temperature ($^\\circ$ F)',\n",
    "    legend=False\n",
    ")\n",
    "\n",
    "plt.savefig('bzn_t_ann_plot.png')\n",
    "plt.show()\n",
    "# bzn_t_ann_plot"
   ]
  },
  {
   "cell_type": "markdown",
   "id": "eef4ae7c",
   "metadata": {},
   "source": [
    "### Interpretation\n",
    "\n",
    "The erroneous high value has been smoothed out, as I suspected. In addition, it looks like there's a warming trend going on in the data."
   ]
  },
  {
   "cell_type": "code",
   "execution_count": null,
   "id": "5c7370d9",
   "metadata": {},
   "outputs": [],
   "source": [
    "# Make an interactive plot\n",
    "\n",
    "bzn_t_ann_plot_int = bzn_t_ann_df.hvplot(\n",
    "    y= 'temp_f',\n",
    "    title='Daily Temperature in Bozeman, MT',\n",
    "    xlabel='Year',\n",
    "    ylabel='Temperature ($^\\circ$ F)',\n",
    "    legend=False   \n",
    ")\n",
    "\n",
    "bzn_t_ann_plot_int\n",
    "\n",
    "# Save plot\n",
    "\n",
    "hv.save(bzn_t_ann_plot_int, 'bzn_t_ann_plot_int.html')"
   ]
  },
  {
   "cell_type": "markdown",
   "id": "1558b4d5",
   "metadata": {},
   "source": [
    "\n",
    "## Fit a linear regression to the data\n"
   ]
  },
  {
   "cell_type": "code",
   "execution_count": null,
   "id": "3bec50b0",
   "metadata": {},
   "outputs": [],
   "source": [
    "# Fit an OLS Linear Regression to the data (ChatGPT query)\n",
    "# I have marked ChatGPT comments with double hashtags (##)\n",
    "\n",
    "from sklearn.linear_model import LinearRegression\n",
    "import numpy as np\n",
    "\n",
    "# Reset the DataFrame index to a column within the DataFrame. I have abbreviated the \n",
    "# variable name to bzn_t_reind_df so it doesn't get unwieldy.\n",
    "## Assuming df is your DataFrame with 'Year' as the index and 'Temperature' as the column\n",
    "bzn_t_reind_df = bzn_t_ann_df.reset_index()\n",
    "\n",
    "# Further clean the DataFrame to work with Seaborn and scikit.\n",
    "# The way 'DATE' is formatted causes errors with regplot(), so I need to just select the \n",
    "# year out of 'DATE'.\n",
    "# Clean the data of NaNs before calculating the fit (Google Gemini)\n",
    "\n",
    "bzn_t_reind_df['DATE'] = pd.to_datetime(bzn_t_reind_df['DATE'])\n",
    "bzn_t_reind_df['year'] = bzn_t_reind_df['DATE'].dt.year\n",
    "bzn_t_lin_reg_df = bzn_t_reind_df.dropna()\n",
    "\n",
    "## Reshape 'Year' column to be a 2D array for scikit-learn\n",
    "x = bzn_t_lin_reg_df[['year']].values\n",
    "y_f = bzn_t_lin_reg_df['temp_f'].values\n",
    "\n",
    "## Create and fit the linear regression model\n",
    "model = LinearRegression()\n",
    "model.fit(x, y_f)\n",
    "\n",
    "## Get the slope and intercept\n",
    "slope = model.coef_[0]\n",
    "intercept = model.intercept_\n",
    "\n",
    "## Print the results\n",
    "print(f\"Slope: {slope}\")\n",
    "print(f\"Intercept: {intercept}\")"
   ]
  },
  {
   "cell_type": "markdown",
   "id": "9d6ef6bf",
   "metadata": {},
   "source": [
    "\n",
    "## Plot the linear regression\n"
   ]
  },
  {
   "cell_type": "code",
   "execution_count": null,
   "id": "043cdd4f",
   "metadata": {},
   "outputs": [],
   "source": [
    "# Plot annual average temperature with a trend line\n",
    "bzn_plot_linreg = sns.regplot(\n",
    "    x= bzn_t_lin_reg_df[['year']], \n",
    "    y= bzn_t_lin_reg_df[['temp_f']],\n",
    "    data= bzn_t_lin_reg_df,\n",
    "    # type = 'line'\n",
    "    ci= None\n",
    ")\n",
    "# Set plot labels\n",
    "bzn_plot_linreg.set(\n",
    "    title='OLS Regression of Annual Mean Temperature ($^\\circ$F) in Bozeman, MT',\n",
    "    xlabel='Time',\n",
    "    ylabel='Temperature ($^\\circ$F)'\n",
    ")\n",
    "# Save figure andDisplay the plot without extra text\n",
    "plt.savefig('bzn_plot_linreg.png')\n",
    "plt.show()"
   ]
  }
 ],
 "metadata": {
  "kernelspec": {
   "display_name": "earth-analytics-python",
   "language": "python",
   "name": "python3"
  },
  "language_info": {
   "codemirror_mode": {
    "name": "ipython",
    "version": 3
   },
   "file_extension": ".py",
   "mimetype": "text/x-python",
   "name": "python",
   "nbconvert_exporter": "python",
   "pygments_lexer": "ipython3",
   "version": "3.11.13"
  }
 },
 "nbformat": 4,
 "nbformat_minor": 5
}
