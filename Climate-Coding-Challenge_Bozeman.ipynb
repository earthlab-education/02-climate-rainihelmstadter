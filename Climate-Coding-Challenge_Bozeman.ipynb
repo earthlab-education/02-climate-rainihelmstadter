{
 "cells": [
  {
   "cell_type": "markdown",
   "id": "5f88bd2b",
   "metadata": {},
   "source": [
    "\n",
    "# Climate Change in Bozeman, Montana\n",
    "\n",
    "This notebook will analyze temperature data in Bozeman, MT to investigate for a warming trend due to climate change. I am using data from the NCEI - Station (PUT_STATION_HERE). I'll be using a simple linear regression to do this analysis, which is certainly a limited tool, but is a good place to start.\n",
    "\n",
    "DISCUSSION OF LR ASSUMPTIONS HERE\n",
    "\n",
    "If time allows, I'd also like to investigate snowfall amounts for a climate change signal. However, that will be a little bit harder, as precipitation data on a daily scale is a non-Gaussian data product.\n",
    "\n",
    "## To-Do\n",
    "\n",
    "- [ ] Finish documentation of Bozeman weather station once link works again\n",
    "- [ ] Add discussion of LR Assumptions\n",
    "- [ ] Complete Bozeman Tobs analysis\n",
    "- [ ] Tackle Bozeman snowfall analysis?\n"
   ]
  },
  {
   "cell_type": "code",
   "execution_count": 1,
   "id": "cc102e09",
   "metadata": {},
   "outputs": [
    {
     "name": "stderr",
     "output_type": "stream",
     "text": [
      "c:\\Users\\raini\\miniconda3\\envs\\earth-analytics-python\\Lib\\site-packages\\earthpy\\__init__.py:7: UserWarning: pkg_resources is deprecated as an API. See https://setuptools.pypa.io/en/latest/pkg_resources.html. The pkg_resources package is slated for removal as early as 2025-11-30. Refrain from using this package or pin to Setuptools<81.\n",
      "  from pkg_resources import resource_string\n"
     ]
    },
    {
     "data": {
      "text/html": [
       "<script type=\"esms-options\">{\"shimMode\": true}</script><style>*[data-root-id],\n",
       "*[data-root-id] > * {\n",
       "  box-sizing: border-box;\n",
       "  font-family: var(--jp-ui-font-family);\n",
       "  font-size: var(--jp-ui-font-size1);\n",
       "  color: var(--vscode-editor-foreground, var(--jp-ui-font-color1));\n",
       "}\n",
       "\n",
       "/* Override VSCode background color */\n",
       ".cell-output-ipywidget-background:has(\n",
       "  > .cell-output-ipywidget-background > .lm-Widget > *[data-root-id]\n",
       "),\n",
       ".cell-output-ipywidget-background:has(> .lm-Widget > *[data-root-id]) {\n",
       "  background-color: transparent !important;\n",
       "}\n",
       "</style>"
      ]
     },
     "metadata": {},
     "output_type": "display_data"
    },
    {
     "data": {
      "application/javascript": "(function(root) {\n  function now() {\n    return new Date();\n  }\n\n  const force = true;\n  const py_version = '3.8.0'.replace('rc', '-rc.').replace('.dev', '-dev.');\n  const reloading = false;\n  const Bokeh = root.Bokeh;\n\n  // Set a timeout for this load but only if we are not already initializing\n  if (typeof (root._bokeh_timeout) === \"undefined\" || (force || !root._bokeh_is_initializing)) {\n    root._bokeh_timeout = Date.now() + 5000;\n    root._bokeh_failed_load = false;\n  }\n\n  function run_callbacks() {\n    try {\n      root._bokeh_onload_callbacks.forEach(function(callback) {\n        if (callback != null)\n          callback();\n      });\n    } finally {\n      delete root._bokeh_onload_callbacks;\n    }\n    console.debug(\"Bokeh: all callbacks have finished\");\n  }\n\n  function load_libs(css_urls, js_urls, js_modules, js_exports, callback) {\n    if (css_urls == null) css_urls = [];\n    if (js_urls == null) js_urls = [];\n    if (js_modules == null) js_modules = [];\n    if (js_exports == null) js_exports = {};\n\n    root._bokeh_onload_callbacks.push(callback);\n\n    if (root._bokeh_is_loading > 0) {\n      // Don't load bokeh if it is still initializing\n      console.debug(\"Bokeh: BokehJS is being loaded, scheduling callback at\", now());\n      return null;\n    } else if (js_urls.length === 0 && js_modules.length === 0 && Object.keys(js_exports).length === 0) {\n      // There is nothing to load\n      run_callbacks();\n      return null;\n    }\n\n    function on_load() {\n      root._bokeh_is_loading--;\n      if (root._bokeh_is_loading === 0) {\n        console.debug(\"Bokeh: all BokehJS libraries/stylesheets loaded\");\n        run_callbacks()\n      }\n    }\n    window._bokeh_on_load = on_load\n\n    function on_error(e) {\n      const src_el = e.srcElement\n      console.error(\"failed to load \" + (src_el.href || src_el.src));\n    }\n\n    const skip = [];\n    if (window.requirejs) {\n      window.requirejs.config({'packages': {}, 'paths': {}, 'shim': {}});\n      root._bokeh_is_loading = css_urls.length + 0;\n    } else {\n      root._bokeh_is_loading = css_urls.length + js_urls.length + js_modules.length + Object.keys(js_exports).length;\n    }\n\n    const existing_stylesheets = []\n    const links = document.getElementsByTagName('link')\n    for (let i = 0; i < links.length; i++) {\n      const link = links[i]\n      if (link.href != null) {\n        existing_stylesheets.push(link.href)\n      }\n    }\n    for (let i = 0; i < css_urls.length; i++) {\n      const url = css_urls[i];\n      const escaped = encodeURI(url)\n      if (existing_stylesheets.indexOf(escaped) !== -1) {\n        on_load()\n        continue;\n      }\n      const element = document.createElement(\"link\");\n      element.onload = on_load;\n      element.onerror = on_error;\n      element.rel = \"stylesheet\";\n      element.type = \"text/css\";\n      element.href = url;\n      console.debug(\"Bokeh: injecting link tag for BokehJS stylesheet: \", url);\n      document.body.appendChild(element);\n    }    var existing_scripts = []\n    const scripts = document.getElementsByTagName('script')\n    for (let i = 0; i < scripts.length; i++) {\n      var script = scripts[i]\n      if (script.src != null) {\n        existing_scripts.push(script.src)\n      }\n    }\n    for (let i = 0; i < js_urls.length; i++) {\n      const url = js_urls[i];\n      const escaped = encodeURI(url)\n      if (skip.indexOf(escaped) !== -1 || existing_scripts.indexOf(escaped) !== -1) {\n        if (!window.requirejs) {\n          on_load();\n        }\n        continue;\n      }\n      const element = document.createElement('script');\n      element.onload = on_load;\n      element.onerror = on_error;\n      element.async = false;\n      element.src = url;\n      console.debug(\"Bokeh: injecting script tag for BokehJS library: \", url);\n      document.head.appendChild(element);\n    }\n    for (let i = 0; i < js_modules.length; i++) {\n      const url = js_modules[i];\n      const escaped = encodeURI(url)\n      if (skip.indexOf(escaped) !== -1 || existing_scripts.indexOf(escaped) !== -1) {\n        if (!window.requirejs) {\n          on_load();\n        }\n        continue;\n      }\n      var element = document.createElement('script');\n      element.onload = on_load;\n      element.onerror = on_error;\n      element.async = false;\n      element.src = url;\n      element.type = \"module\";\n      console.debug(\"Bokeh: injecting script tag for BokehJS library: \", url);\n      document.head.appendChild(element);\n    }\n    for (const name in js_exports) {\n      const url = js_exports[name];\n      const escaped = encodeURI(url)\n      if (skip.indexOf(escaped) >= 0 || root[name] != null) {\n        if (!window.requirejs) {\n          on_load();\n        }\n        continue;\n      }\n      var element = document.createElement('script');\n      element.onerror = on_error;\n      element.async = false;\n      element.type = \"module\";\n      console.debug(\"Bokeh: injecting script tag for BokehJS library: \", url);\n      element.textContent = `\n      import ${name} from \"${url}\"\n      window.${name} = ${name}\n      window._bokeh_on_load()\n      `\n      document.head.appendChild(element);\n    }\n    if (!js_urls.length && !js_modules.length) {\n      on_load()\n    }\n  };\n\n  function inject_raw_css(css) {\n    const element = document.createElement(\"style\");\n    element.appendChild(document.createTextNode(css));\n    document.body.appendChild(element);\n  }\n\n  const js_urls = [\"https://cdn.holoviz.org/panel/1.8.1/dist/bundled/reactiveesm/es-module-shims@^1.10.0/dist/es-module-shims.min.js\", \"https://cdn.bokeh.org/bokeh/release/bokeh-3.8.0.min.js\", \"https://cdn.bokeh.org/bokeh/release/bokeh-gl-3.8.0.min.js\", \"https://cdn.bokeh.org/bokeh/release/bokeh-widgets-3.8.0.min.js\", \"https://cdn.bokeh.org/bokeh/release/bokeh-tables-3.8.0.min.js\", \"https://cdn.holoviz.org/panel/1.8.1/dist/panel.min.js\"];\n  const js_modules = [];\n  const js_exports = {};\n  const css_urls = [];\n  const inline_js = [    function(Bokeh) {\n      Bokeh.set_log_level(\"info\");\n    },\nfunction(Bokeh) {} // ensure no trailing comma for IE\n  ];\n\n  function run_inline_js() {\n    if ((root.Bokeh !== undefined) || (force === true)) {\n      for (let i = 0; i < inline_js.length; i++) {\n        try {\n          inline_js[i].call(root, root.Bokeh);\n        } catch(e) {\n          if (!reloading) {\n            throw e;\n          }\n        }\n      }\n      // Cache old bokeh versions\n      if (Bokeh != undefined && !reloading) {\n        var NewBokeh = root.Bokeh;\n        if (Bokeh.versions === undefined) {\n          Bokeh.versions = new Map();\n        }\n        if (NewBokeh.version !== Bokeh.version) {\n          Bokeh.versions.set(NewBokeh.version, NewBokeh)\n        }\n        root.Bokeh = Bokeh;\n      }\n    } else if (Date.now() < root._bokeh_timeout) {\n      setTimeout(run_inline_js, 100);\n    } else if (!root._bokeh_failed_load) {\n      console.log(\"Bokeh: BokehJS failed to load within specified timeout.\");\n      root._bokeh_failed_load = true;\n    }\n    root._bokeh_is_initializing = false\n  }\n\n  function load_or_wait() {\n    // Implement a backoff loop that tries to ensure we do not load multiple\n    // versions of Bokeh and its dependencies at the same time.\n    // In recent versions we use the root._bokeh_is_initializing flag\n    // to determine whether there is an ongoing attempt to initialize\n    // bokeh, however for backward compatibility we also try to ensure\n    // that we do not start loading a newer (Panel>=1.0 and Bokeh>3) version\n    // before older versions are fully initialized.\n    if (root._bokeh_is_initializing && Date.now() > root._bokeh_timeout) {\n      // If the timeout and bokeh was not successfully loaded we reset\n      // everything and try loading again\n      root._bokeh_timeout = Date.now() + 5000;\n      root._bokeh_is_initializing = false;\n      root._bokeh_onload_callbacks = undefined;\n      root._bokeh_is_loading = 0\n      console.log(\"Bokeh: BokehJS was loaded multiple times but one version failed to initialize.\");\n      load_or_wait();\n    } else if (root._bokeh_is_initializing || (typeof root._bokeh_is_initializing === \"undefined\" && root._bokeh_onload_callbacks !== undefined)) {\n      setTimeout(load_or_wait, 100);\n    } else {\n      root._bokeh_is_initializing = true\n      root._bokeh_onload_callbacks = []\n      const bokeh_loaded = root.Bokeh != null && (root.Bokeh.version === py_version || (root.Bokeh.versions !== undefined && root.Bokeh.versions.has(py_version)));\n      if (!reloading && !bokeh_loaded) {\n        if (root.Bokeh) {\n          root.Bokeh = undefined;\n        }\n        console.debug(\"Bokeh: BokehJS not loaded, scheduling load and callback at\", now());\n      }\n      load_libs(css_urls, js_urls, js_modules, js_exports, function() {\n        console.debug(\"Bokeh: BokehJS plotting callback run at\", now());\n        run_inline_js();\n      });\n    }\n  }\n  // Give older versions of the autoload script a head-start to ensure\n  // they initialize before we start loading newer version.\n  setTimeout(load_or_wait, 100)\n}(window));",
      "application/vnd.holoviews_load.v0+json": ""
     },
     "metadata": {},
     "output_type": "display_data"
    },
    {
     "data": {
      "application/javascript": "\nif ((window.PyViz === undefined) || (window.PyViz instanceof HTMLElement)) {\n  window.PyViz = {comms: {}, comm_status:{}, kernels:{}, receivers: {}, plot_index: []}\n}\n\n\n    function JupyterCommManager() {\n    }\n\n    JupyterCommManager.prototype.register_target = function(plot_id, comm_id, msg_handler) {\n      if (window.comm_manager || ((window.Jupyter !== undefined) && (Jupyter.notebook.kernel != null))) {\n        var comm_manager = window.comm_manager || Jupyter.notebook.kernel.comm_manager;\n        comm_manager.register_target(comm_id, function(comm) {\n          comm.on_msg(msg_handler);\n        });\n      } else if ((plot_id in window.PyViz.kernels) && (window.PyViz.kernels[plot_id])) {\n        window.PyViz.kernels[plot_id].registerCommTarget(comm_id, function(comm) {\n          comm.onMsg = msg_handler;\n        });\n      } else if (typeof google != 'undefined' && google.colab.kernel != null) {\n        google.colab.kernel.comms.registerTarget(comm_id, (comm) => {\n          var messages = comm.messages[Symbol.asyncIterator]();\n          function processIteratorResult(result) {\n            var message = result.value;\n            var content = {data: message.data, comm_id};\n            var buffers = []\n            for (var buffer of message.buffers || []) {\n              buffers.push(new DataView(buffer))\n            }\n            var metadata = message.metadata || {};\n            var msg = {content, buffers, metadata}\n            msg_handler(msg);\n            return messages.next().then(processIteratorResult);\n          }\n          return messages.next().then(processIteratorResult);\n        })\n      }\n    }\n\n    JupyterCommManager.prototype.get_client_comm = function(plot_id, comm_id, msg_handler) {\n      if (comm_id in window.PyViz.comms) {\n        return window.PyViz.comms[comm_id];\n      } else if (window.comm_manager || ((window.Jupyter !== undefined) && (Jupyter.notebook.kernel != null))) {\n        var comm_manager = window.comm_manager || Jupyter.notebook.kernel.comm_manager;\n        var comm = comm_manager.new_comm(comm_id, {}, {}, {}, comm_id);\n        if (msg_handler) {\n          comm.on_msg(msg_handler);\n        }\n      } else if ((plot_id in window.PyViz.kernels) && (window.PyViz.kernels[plot_id])) {\n        var comm = window.PyViz.kernels[plot_id].connectToComm(comm_id);\n        let retries = 0;\n        const open = () => {\n          if (comm.active) {\n            comm.open();\n          } else if (retries > 3) {\n            console.warn('Comm target never activated')\n          } else {\n            retries += 1\n            setTimeout(open, 500)\n          }\n        }\n        if (comm.active) {\n          comm.open();\n        } else {\n          setTimeout(open, 500)\n        }\n        if (msg_handler) {\n          comm.onMsg = msg_handler;\n        }\n      } else if (typeof google != 'undefined' && google.colab.kernel != null) {\n        var comm_promise = google.colab.kernel.comms.open(comm_id)\n        comm_promise.then((comm) => {\n          window.PyViz.comms[comm_id] = comm;\n          if (msg_handler) {\n            var messages = comm.messages[Symbol.asyncIterator]();\n            function processIteratorResult(result) {\n              var message = result.value;\n              var content = {data: message.data};\n              var metadata = message.metadata || {comm_id};\n              var msg = {content, metadata}\n              msg_handler(msg);\n              return messages.next().then(processIteratorResult);\n            }\n            return messages.next().then(processIteratorResult);\n          }\n        })\n        var sendClosure = (data, metadata, buffers, disposeOnDone) => {\n          return comm_promise.then((comm) => {\n            comm.send(data, metadata, buffers, disposeOnDone);\n          });\n        };\n        var comm = {\n          send: sendClosure\n        };\n      }\n      window.PyViz.comms[comm_id] = comm;\n      return comm;\n    }\n    window.PyViz.comm_manager = new JupyterCommManager();\n    \n\n\nvar JS_MIME_TYPE = 'application/javascript';\nvar HTML_MIME_TYPE = 'text/html';\nvar EXEC_MIME_TYPE = 'application/vnd.holoviews_exec.v0+json';\nvar CLASS_NAME = 'output';\n\n/**\n * Render data to the DOM node\n */\nfunction render(props, node) {\n  var div = document.createElement(\"div\");\n  var script = document.createElement(\"script\");\n  node.appendChild(div);\n  node.appendChild(script);\n}\n\n/**\n * Handle when a new output is added\n */\nfunction handle_add_output(event, handle) {\n  var output_area = handle.output_area;\n  var output = handle.output;\n  if ((output.data == undefined) || (!output.data.hasOwnProperty(EXEC_MIME_TYPE))) {\n    return\n  }\n  var id = output.metadata[EXEC_MIME_TYPE][\"id\"];\n  var toinsert = output_area.element.find(\".\" + CLASS_NAME.split(' ')[0]);\n  if (id !== undefined) {\n    var nchildren = toinsert.length;\n    var html_node = toinsert[nchildren-1].children[0];\n    html_node.innerHTML = output.data[HTML_MIME_TYPE];\n    var scripts = [];\n    var nodelist = html_node.querySelectorAll(\"script\");\n    for (var i in nodelist) {\n      if (nodelist.hasOwnProperty(i)) {\n        scripts.push(nodelist[i])\n      }\n    }\n\n    scripts.forEach( function (oldScript) {\n      var newScript = document.createElement(\"script\");\n      var attrs = [];\n      var nodemap = oldScript.attributes;\n      for (var j in nodemap) {\n        if (nodemap.hasOwnProperty(j)) {\n          attrs.push(nodemap[j])\n        }\n      }\n      attrs.forEach(function(attr) { newScript.setAttribute(attr.name, attr.value) });\n      newScript.appendChild(document.createTextNode(oldScript.innerHTML));\n      oldScript.parentNode.replaceChild(newScript, oldScript);\n    });\n    if (JS_MIME_TYPE in output.data) {\n      toinsert[nchildren-1].children[1].textContent = output.data[JS_MIME_TYPE];\n    }\n    output_area._hv_plot_id = id;\n    if ((window.Bokeh !== undefined) && (id in Bokeh.index)) {\n      window.PyViz.plot_index[id] = Bokeh.index[id];\n    } else {\n      window.PyViz.plot_index[id] = null;\n    }\n  } else if (output.metadata[EXEC_MIME_TYPE][\"server_id\"] !== undefined) {\n    var bk_div = document.createElement(\"div\");\n    bk_div.innerHTML = output.data[HTML_MIME_TYPE];\n    var script_attrs = bk_div.children[0].attributes;\n    for (var i = 0; i < script_attrs.length; i++) {\n      toinsert[toinsert.length - 1].childNodes[1].setAttribute(script_attrs[i].name, script_attrs[i].value);\n    }\n    // store reference to server id on output_area\n    output_area._bokeh_server_id = output.metadata[EXEC_MIME_TYPE][\"server_id\"];\n  }\n}\n\n/**\n * Handle when an output is cleared or removed\n */\nfunction handle_clear_output(event, handle) {\n  var id = handle.cell.output_area._hv_plot_id;\n  var server_id = handle.cell.output_area._bokeh_server_id;\n  if (((id === undefined) || !(id in PyViz.plot_index)) && (server_id !== undefined)) { return; }\n  var comm = window.PyViz.comm_manager.get_client_comm(\"hv-extension-comm\", \"hv-extension-comm\", function () {});\n  if (server_id !== null) {\n    comm.send({event_type: 'server_delete', 'id': server_id});\n    return;\n  } else if (comm !== null) {\n    comm.send({event_type: 'delete', 'id': id});\n  }\n  delete PyViz.plot_index[id];\n  if ((window.Bokeh !== undefined) & (id in window.Bokeh.index)) {\n    var doc = window.Bokeh.index[id].model.document\n    doc.clear();\n    const i = window.Bokeh.documents.indexOf(doc);\n    if (i > -1) {\n      window.Bokeh.documents.splice(i, 1);\n    }\n  }\n}\n\n/**\n * Handle kernel restart event\n */\nfunction handle_kernel_cleanup(event, handle) {\n  delete PyViz.comms[\"hv-extension-comm\"];\n  window.PyViz.plot_index = {}\n}\n\n/**\n * Handle update_display_data messages\n */\nfunction handle_update_output(event, handle) {\n  handle_clear_output(event, {cell: {output_area: handle.output_area}})\n  handle_add_output(event, handle)\n}\n\nfunction register_renderer(events, OutputArea) {\n  function append_mime(data, metadata, element) {\n    // create a DOM node to render to\n    var toinsert = this.create_output_subarea(\n    metadata,\n    CLASS_NAME,\n    EXEC_MIME_TYPE\n    );\n    this.keyboard_manager.register_events(toinsert);\n    // Render to node\n    var props = {data: data, metadata: metadata[EXEC_MIME_TYPE]};\n    render(props, toinsert[0]);\n    element.append(toinsert);\n    return toinsert\n  }\n\n  events.on('output_added.OutputArea', handle_add_output);\n  events.on('output_updated.OutputArea', handle_update_output);\n  events.on('clear_output.CodeCell', handle_clear_output);\n  events.on('delete.Cell', handle_clear_output);\n  events.on('kernel_ready.Kernel', handle_kernel_cleanup);\n\n  OutputArea.prototype.register_mime_type(EXEC_MIME_TYPE, append_mime, {\n    safe: true,\n    index: 0\n  });\n}\n\nif (window.Jupyter !== undefined) {\n  try {\n    var events = require('base/js/events');\n    var OutputArea = require('notebook/js/outputarea').OutputArea;\n    if (OutputArea.prototype.mime_types().indexOf(EXEC_MIME_TYPE) == -1) {\n      register_renderer(events, OutputArea);\n    }\n  } catch(err) {\n  }\n}\n",
      "application/vnd.holoviews_load.v0+json": ""
     },
     "metadata": {},
     "output_type": "display_data"
    },
    {
     "data": {
      "application/vnd.holoviews_exec.v0+json": "",
      "text/html": [
       "<div id='p1011'>\n",
       "  <div id=\"d957f832-2141-485b-908d-ddadf025a0a2\" data-root-id=\"p1011\" style=\"display: contents;\"></div>\n",
       "</div>\n",
       "<script type=\"application/javascript\">(function(root) {\n",
       "  var docs_json = {\"758b848d-52aa-4831-9d31-e314938f4d5f\":{\"version\":\"3.8.0\",\"title\":\"Bokeh Application\",\"config\":{\"type\":\"object\",\"name\":\"DocumentConfig\",\"id\":\"p1009\",\"attributes\":{\"notifications\":{\"type\":\"object\",\"name\":\"Notifications\",\"id\":\"p1010\"}}},\"roots\":[{\"type\":\"object\",\"name\":\"panel.models.browser.BrowserInfo\",\"id\":\"p1011\"},{\"type\":\"object\",\"name\":\"panel.models.comm_manager.CommManager\",\"id\":\"p1012\",\"attributes\":{\"plot_id\":\"p1011\",\"comm_id\":\"8daa9f81160c44bc891b4fa34fa31b78\",\"client_comm_id\":\"59d6738be9f740849d98fef2fcbcfe23\"}}],\"defs\":[{\"type\":\"model\",\"name\":\"ReactiveHTML1\"},{\"type\":\"model\",\"name\":\"FlexBox1\",\"properties\":[{\"name\":\"align_content\",\"kind\":\"Any\",\"default\":\"flex-start\"},{\"name\":\"align_items\",\"kind\":\"Any\",\"default\":\"flex-start\"},{\"name\":\"flex_direction\",\"kind\":\"Any\",\"default\":\"row\"},{\"name\":\"flex_wrap\",\"kind\":\"Any\",\"default\":\"wrap\"},{\"name\":\"gap\",\"kind\":\"Any\",\"default\":\"\"},{\"name\":\"justify_content\",\"kind\":\"Any\",\"default\":\"flex-start\"}]},{\"type\":\"model\",\"name\":\"FloatPanel1\",\"properties\":[{\"name\":\"config\",\"kind\":\"Any\",\"default\":{\"type\":\"map\"}},{\"name\":\"contained\",\"kind\":\"Any\",\"default\":true},{\"name\":\"position\",\"kind\":\"Any\",\"default\":\"right-top\"},{\"name\":\"offsetx\",\"kind\":\"Any\",\"default\":null},{\"name\":\"offsety\",\"kind\":\"Any\",\"default\":null},{\"name\":\"theme\",\"kind\":\"Any\",\"default\":\"primary\"},{\"name\":\"status\",\"kind\":\"Any\",\"default\":\"normalized\"}]},{\"type\":\"model\",\"name\":\"GridStack1\",\"properties\":[{\"name\":\"ncols\",\"kind\":\"Any\",\"default\":null},{\"name\":\"nrows\",\"kind\":\"Any\",\"default\":null},{\"name\":\"allow_resize\",\"kind\":\"Any\",\"default\":true},{\"name\":\"allow_drag\",\"kind\":\"Any\",\"default\":true},{\"name\":\"state\",\"kind\":\"Any\",\"default\":[]}]},{\"type\":\"model\",\"name\":\"drag1\",\"properties\":[{\"name\":\"slider_width\",\"kind\":\"Any\",\"default\":5},{\"name\":\"slider_color\",\"kind\":\"Any\",\"default\":\"black\"},{\"name\":\"start\",\"kind\":\"Any\",\"default\":0},{\"name\":\"end\",\"kind\":\"Any\",\"default\":100},{\"name\":\"value\",\"kind\":\"Any\",\"default\":50}]},{\"type\":\"model\",\"name\":\"click1\",\"properties\":[{\"name\":\"terminal_output\",\"kind\":\"Any\",\"default\":\"\"},{\"name\":\"debug_name\",\"kind\":\"Any\",\"default\":\"\"},{\"name\":\"clears\",\"kind\":\"Any\",\"default\":0}]},{\"type\":\"model\",\"name\":\"ReactiveESM1\",\"properties\":[{\"name\":\"esm_constants\",\"kind\":\"Any\",\"default\":{\"type\":\"map\"}}]},{\"type\":\"model\",\"name\":\"JSComponent1\",\"properties\":[{\"name\":\"esm_constants\",\"kind\":\"Any\",\"default\":{\"type\":\"map\"}}]},{\"type\":\"model\",\"name\":\"ReactComponent1\",\"properties\":[{\"name\":\"use_shadow_dom\",\"kind\":\"Any\",\"default\":true},{\"name\":\"esm_constants\",\"kind\":\"Any\",\"default\":{\"type\":\"map\"}}]},{\"type\":\"model\",\"name\":\"AnyWidgetComponent1\",\"properties\":[{\"name\":\"use_shadow_dom\",\"kind\":\"Any\",\"default\":true},{\"name\":\"esm_constants\",\"kind\":\"Any\",\"default\":{\"type\":\"map\"}}]},{\"type\":\"model\",\"name\":\"FastWrapper1\",\"properties\":[{\"name\":\"object\",\"kind\":\"Any\",\"default\":null},{\"name\":\"style\",\"kind\":\"Any\",\"default\":null}]},{\"type\":\"model\",\"name\":\"NotificationArea1\",\"properties\":[{\"name\":\"js_events\",\"kind\":\"Any\",\"default\":{\"type\":\"map\"}},{\"name\":\"max_notifications\",\"kind\":\"Any\",\"default\":5},{\"name\":\"notifications\",\"kind\":\"Any\",\"default\":[]},{\"name\":\"position\",\"kind\":\"Any\",\"default\":\"bottom-right\"},{\"name\":\"_clear\",\"kind\":\"Any\",\"default\":0},{\"name\":\"types\",\"kind\":\"Any\",\"default\":[{\"type\":\"map\",\"entries\":[[\"type\",\"warning\"],[\"background\",\"#ffc107\"],[\"icon\",{\"type\":\"map\",\"entries\":[[\"className\",\"fas fa-exclamation-triangle\"],[\"tagName\",\"i\"],[\"color\",\"white\"]]}]]},{\"type\":\"map\",\"entries\":[[\"type\",\"info\"],[\"background\",\"#007bff\"],[\"icon\",{\"type\":\"map\",\"entries\":[[\"className\",\"fas fa-info-circle\"],[\"tagName\",\"i\"],[\"color\",\"white\"]]}]]}]}]},{\"type\":\"model\",\"name\":\"Notification\",\"properties\":[{\"name\":\"background\",\"kind\":\"Any\",\"default\":null},{\"name\":\"duration\",\"kind\":\"Any\",\"default\":3000},{\"name\":\"icon\",\"kind\":\"Any\",\"default\":null},{\"name\":\"message\",\"kind\":\"Any\",\"default\":\"\"},{\"name\":\"notification_type\",\"kind\":\"Any\",\"default\":null},{\"name\":\"_rendered\",\"kind\":\"Any\",\"default\":false},{\"name\":\"_destroyed\",\"kind\":\"Any\",\"default\":false}]},{\"type\":\"model\",\"name\":\"TemplateActions1\",\"properties\":[{\"name\":\"open_modal\",\"kind\":\"Any\",\"default\":0},{\"name\":\"close_modal\",\"kind\":\"Any\",\"default\":0}]},{\"type\":\"model\",\"name\":\"BootstrapTemplateActions1\",\"properties\":[{\"name\":\"open_modal\",\"kind\":\"Any\",\"default\":0},{\"name\":\"close_modal\",\"kind\":\"Any\",\"default\":0}]},{\"type\":\"model\",\"name\":\"TemplateEditor1\",\"properties\":[{\"name\":\"layout\",\"kind\":\"Any\",\"default\":[]}]},{\"type\":\"model\",\"name\":\"MaterialTemplateActions1\",\"properties\":[{\"name\":\"open_modal\",\"kind\":\"Any\",\"default\":0},{\"name\":\"close_modal\",\"kind\":\"Any\",\"default\":0}]},{\"type\":\"model\",\"name\":\"request_value1\",\"properties\":[{\"name\":\"fill\",\"kind\":\"Any\",\"default\":\"none\"},{\"name\":\"_synced\",\"kind\":\"Any\",\"default\":null},{\"name\":\"_request_sync\",\"kind\":\"Any\",\"default\":0}]}]}};\n",
       "  var render_items = [{\"docid\":\"758b848d-52aa-4831-9d31-e314938f4d5f\",\"roots\":{\"p1011\":\"d957f832-2141-485b-908d-ddadf025a0a2\"},\"root_ids\":[\"p1011\"]}];\n",
       "  var docs = Object.values(docs_json)\n",
       "  if (!docs) {\n",
       "    return\n",
       "  }\n",
       "  const py_version = docs[0].version.replace('rc', '-rc.').replace('.dev', '-dev.')\n",
       "  async function embed_document(root) {\n",
       "    var Bokeh = get_bokeh(root)\n",
       "    await Bokeh.embed.embed_items_notebook(docs_json, render_items);\n",
       "    for (const render_item of render_items) {\n",
       "      for (const root_id of render_item.root_ids) {\n",
       "\tconst id_el = document.getElementById(root_id)\n",
       "\tif (id_el.children.length && id_el.children[0].hasAttribute('data-root-id')) {\n",
       "\t  const root_el = id_el.children[0]\n",
       "\t  root_el.id = root_el.id + '-rendered'\n",
       "\t  for (const child of root_el.children) {\n",
       "            // Ensure JupyterLab does not capture keyboard shortcuts\n",
       "            // see: https://jupyterlab.readthedocs.io/en/4.1.x/extension/notebook.html#keyboard-interaction-model\n",
       "\t    child.setAttribute('data-lm-suppress-shortcuts', 'true')\n",
       "\t  }\n",
       "\t}\n",
       "      }\n",
       "    }\n",
       "  }\n",
       "  function get_bokeh(root) {\n",
       "    if (root.Bokeh === undefined) {\n",
       "      return null\n",
       "    } else if (root.Bokeh.version !== py_version) {\n",
       "      if (root.Bokeh.versions === undefined || !root.Bokeh.versions.has(py_version)) {\n",
       "\treturn null\n",
       "      }\n",
       "      return root.Bokeh.versions.get(py_version);\n",
       "    } else if (root.Bokeh.version === py_version) {\n",
       "      return root.Bokeh\n",
       "    }\n",
       "    return null\n",
       "  }\n",
       "  function is_loaded(root) {\n",
       "    var Bokeh = get_bokeh(root)\n",
       "    return (Bokeh != null && Bokeh.Panel !== undefined)\n",
       "  }\n",
       "  if (is_loaded(root)) {\n",
       "    embed_document(root);\n",
       "  } else {\n",
       "    var attempts = 0;\n",
       "    var timer = setInterval(function(root) {\n",
       "      if (is_loaded(root)) {\n",
       "        clearInterval(timer);\n",
       "        embed_document(root);\n",
       "      } else if (document.readyState == \"complete\") {\n",
       "        attempts++;\n",
       "        if (attempts > 200) {\n",
       "          clearInterval(timer);\n",
       "\t  var Bokeh = get_bokeh(root)\n",
       "\t  if (Bokeh == null || Bokeh.Panel == null) {\n",
       "            console.warn(\"Panel: ERROR: Unable to run Panel code because Bokeh or Panel library is missing\");\n",
       "\t  } else {\n",
       "\t    console.warn(\"Panel: WARNING: Attempting to render but not all required libraries could be resolved.\")\n",
       "\t    embed_document(root)\n",
       "\t  }\n",
       "        }\n",
       "      }\n",
       "    }, 25, root)\n",
       "  }\n",
       "})(window);</script>"
      ]
     },
     "metadata": {
      "application/vnd.holoviews_exec.v0+json": {
       "id": "p1011"
      }
     },
     "output_type": "display_data"
    },
    {
     "name": "stdout",
     "output_type": "stream",
     "text": [
      "Done!\n"
     ]
    }
   ],
   "source": [
    "# Import libraries (all that will be needed for this project)\n",
    "\n",
    "import earthpy # local data management\n",
    "import pandas as pd\n",
    "import numpy as np\n",
    "import hvplot.pandas # For making an interactive plot\n",
    "import holoviews as hv\n",
    "import matplotlib.pyplot as plt # advanced plotting options\n",
    "import seaborn as sns # statistical plots for tabular data\n",
    "# Fit an OLS linear regression\n",
    "from sklearn.linear_model import LinearRegression\n",
    "\n",
    "print('Done!')"
   ]
  },
  {
   "cell_type": "markdown",
   "id": "1392c9c4",
   "metadata": {},
   "source": [
    "## Import the Data and Organize into a DataFrame\n",
    "\n",
    "Add some descriptive text here\n",
    "- Where from\n",
    "- Station info\n",
    "- etc\n"
   ]
  },
  {
   "cell_type": "code",
   "execution_count": 2,
   "id": "b605c443",
   "metadata": {},
   "outputs": [
    {
     "data": {
      "text/plain": [
       "'https://www.ncei.noaa.gov/access/services/data/v1?dataset=daily-summaries&dataTypes=TOBS&stations=USC00241044&startDate=1892-04-08&endDate=2025-09-25&units=standard'"
      ]
     },
     "execution_count": 2,
     "metadata": {},
     "output_type": "execute_result"
    }
   ],
   "source": [
    "# Access Observed Temperature data from the Bozeman Weather station\n",
    "\n",
    "bzn_tobs_url = ('https://www.ncei.noaa.gov/access/services/da'\n",
    "'ta/v1?dataset=daily-summaries&dataTypes=TOBS&stations=USC00241044&'\n",
    "'startDate=1892-04-08&endDate=2025-09-25&units=standard')\n",
    "\n",
    "\n",
    "bzn_tobs_url"
   ]
  },
  {
   "cell_type": "code",
   "execution_count": 3,
   "id": "475113dd",
   "metadata": {},
   "outputs": [
    {
     "data": {
      "application/vnd.microsoft.datawrangler.viewer.v0+json": {
       "columns": [
        {
         "name": "DATE",
         "rawType": "datetime64[ns]",
         "type": "datetime"
        },
        {
         "name": "STATION",
         "rawType": "object",
         "type": "string"
        },
        {
         "name": "TOBS",
         "rawType": "float64",
         "type": "float"
        }
       ],
       "ref": "f7e6d71f-73cd-4115-8fac-b78a5536f3e8",
       "rows": [
        [
         "2025-09-21 00:00:00",
         "USC00241044",
         "69.0"
        ],
        [
         "2025-09-22 00:00:00",
         "USC00241044",
         "60.0"
        ],
        [
         "2025-09-23 00:00:00",
         "USC00241044",
         "67.0"
        ],
        [
         "2025-09-24 00:00:00",
         "USC00241044",
         "79.0"
        ],
        [
         "2025-09-25 00:00:00",
         "USC00241044",
         "80.0"
        ]
       ],
       "shape": {
        "columns": 2,
        "rows": 5
       }
      },
      "text/html": [
       "<div>\n",
       "<style scoped>\n",
       "    .dataframe tbody tr th:only-of-type {\n",
       "        vertical-align: middle;\n",
       "    }\n",
       "\n",
       "    .dataframe tbody tr th {\n",
       "        vertical-align: top;\n",
       "    }\n",
       "\n",
       "    .dataframe thead th {\n",
       "        text-align: right;\n",
       "    }\n",
       "</style>\n",
       "<table border=\"1\" class=\"dataframe\">\n",
       "  <thead>\n",
       "    <tr style=\"text-align: right;\">\n",
       "      <th></th>\n",
       "      <th>STATION</th>\n",
       "      <th>TOBS</th>\n",
       "    </tr>\n",
       "    <tr>\n",
       "      <th>DATE</th>\n",
       "      <th></th>\n",
       "      <th></th>\n",
       "    </tr>\n",
       "  </thead>\n",
       "  <tbody>\n",
       "    <tr>\n",
       "      <th>2025-09-21</th>\n",
       "      <td>USC00241044</td>\n",
       "      <td>69.0</td>\n",
       "    </tr>\n",
       "    <tr>\n",
       "      <th>2025-09-22</th>\n",
       "      <td>USC00241044</td>\n",
       "      <td>60.0</td>\n",
       "    </tr>\n",
       "    <tr>\n",
       "      <th>2025-09-23</th>\n",
       "      <td>USC00241044</td>\n",
       "      <td>67.0</td>\n",
       "    </tr>\n",
       "    <tr>\n",
       "      <th>2025-09-24</th>\n",
       "      <td>USC00241044</td>\n",
       "      <td>79.0</td>\n",
       "    </tr>\n",
       "    <tr>\n",
       "      <th>2025-09-25</th>\n",
       "      <td>USC00241044</td>\n",
       "      <td>80.0</td>\n",
       "    </tr>\n",
       "  </tbody>\n",
       "</table>\n",
       "</div>"
      ],
      "text/plain": [
       "                STATION  TOBS\n",
       "DATE                         \n",
       "2025-09-21  USC00241044  69.0\n",
       "2025-09-22  USC00241044  60.0\n",
       "2025-09-23  USC00241044  67.0\n",
       "2025-09-24  USC00241044  79.0\n",
       "2025-09-25  USC00241044  80.0"
      ]
     },
     "execution_count": 3,
     "metadata": {},
     "output_type": "execute_result"
    }
   ],
   "source": [
    "# Download the climate data\n",
    "# I'm storing the Tobs data in bzn_t_df_raw\n",
    "bzn_t_raw_df = pd.read_csv(\n",
    "    bzn_tobs_url,\n",
    "    index_col='DATE',\n",
    "    parse_dates=True,\n",
    "    na_values=['NaN']\n",
    ")\n",
    "\n",
    "# Check that the download worked\n",
    "bzn_t_raw_df.tail()"
   ]
  },
  {
   "cell_type": "code",
   "execution_count": 4,
   "id": "6d2b8b04",
   "metadata": {},
   "outputs": [],
   "source": [
    "# Save the climate data for later use\n",
    "\n",
    "bzn_t_raw_df.to_csv('bozeman_tobs_1892-2025')"
   ]
  },
  {
   "cell_type": "markdown",
   "id": "91be98ab",
   "metadata": {},
   "source": [
    "\n",
    "## Plot the data to start looking at them\n"
   ]
  },
  {
   "cell_type": "code",
   "execution_count": 5,
   "id": "5ccf40b4",
   "metadata": {},
   "outputs": [
    {
     "data": {
      "text/plain": [
       "pandas.core.frame.DataFrame"
      ]
     },
     "execution_count": 5,
     "metadata": {},
     "output_type": "execute_result"
    }
   ],
   "source": [
    "# Check that the data were imported to a DataFrame\n",
    "\n",
    "type(bzn_t_raw_df)"
   ]
  },
  {
   "cell_type": "code",
   "execution_count": 6,
   "id": "39349f08",
   "metadata": {},
   "outputs": [
    {
     "data": {
      "text/plain": [
       "<Axes: ylabel='Frequency'>"
      ]
     },
     "execution_count": 6,
     "metadata": {},
     "output_type": "execute_result"
    },
    {
     "data": {
      "image/png": "[encoded data removed]",
      "text/plain": [
       "<Figure size 640x480 with 1 Axes>"
      ]
     },
     "metadata": {},
     "output_type": "display_data"
    }
   ],
   "source": [
    "# Plot the data as a histogram to check that NaNs were imported correctly\n",
    "\n",
    "bzn_t_raw_df.plot.hist()"
   ]
  },
  {
   "cell_type": "code",
   "execution_count": 7,
   "id": "3f7db688",
   "metadata": {},
   "outputs": [
    {
     "data": {
      "text/plain": [
       "<Axes: title={'center': 'Daily Temperature in Bozeman, MT'}, xlabel='Year', ylabel='Temperature ($^\\\\circ$F)'>"
      ]
     },
     "execution_count": 7,
     "metadata": {},
     "output_type": "execute_result"
    },
    {
     "data": {
      "image/png": "[encoded data removed]",
      "text/plain": [
       "<Figure size 640x480 with 1 Axes>"
      ]
     },
     "metadata": {},
     "output_type": "display_data"
    }
   ],
   "source": [
    "# Plot data as a line plot\n",
    "\n",
    "bzn_t_raw_df.plot(\n",
    "    y= 'TOBS',\n",
    "    title='Daily Temperature in Bozeman, MT',\n",
    "    xlabel='Year',\n",
    "    ylabel='Temperature ($^\\circ$F)',\n",
    "    legend=False\n",
    "    )"
   ]
  },
  {
   "cell_type": "markdown",
   "id": "f7559846",
   "metadata": {},
   "source": [
    "### Interpretation\n",
    "\n",
    "There are two interesting things in this dataset. \n",
    "\n",
    "First, there is what must be a wildly erroneous value of nearly 200&deg;F between 1940 and 1950. This error should be minimized by working with the annual mean.\n",
    "\n",
    "Second, from the beginning of the timeseries to roughly 1950 there are almost no temperatures close to 0 &deg;F, which, I doubt is accurate. This will require some digging into to figure out what's going on and how to address this."
   ]
  },
  {
   "cell_type": "markdown",
   "id": "d159ca0d",
   "metadata": {},
   "source": [
    "## Data Cleaning\n",
    "\n",
    "I'll need to clean the dataset up a little bit to make it easier to work with. I need to:\n",
    "- Remove the station ID\n",
    "- Remove NaNs\n",
    "- Adds a column converted to Celcius\n",
    "- Remove years with large amounts of missing data\n",
    "\n",
    "Removing the years with missing data is the most concerning and challenging step. Here's why I'm doing this:\n",
    "\n",
    "The first line plot shows that there is something weird going on in the first part of the 1900s in the dataset. Using an extension (DataWrangler, from Microsoft), I've taken a look at the beginning of the dataset, and each year until 1933 is missing at least a month of data - often multiple months at a time. So, it seems fairly reasonable to exlude any data from before 1933, as the data aren't reliable enough to make an sort of statistical analysis. In addition, I've got information from most of 2025, but not all, so we'll want to exclude that.\n"
   ]
  },
  {
   "cell_type": "code",
   "execution_count": 8,
   "id": "b2a3e2f0",
   "metadata": {},
   "outputs": [
    {
     "data": {
      "application/vnd.microsoft.datawrangler.viewer.v0+json": {
       "columns": [
        {
         "name": "DATE",
         "rawType": "datetime64[ns]",
         "type": "datetime"
        },
        {
         "name": "temp_f",
         "rawType": "float64",
         "type": "float"
        },
        {
         "name": "temp_c",
         "rawType": "float64",
         "type": "float"
        }
       ],
       "ref": "48c1dd90-bf8f-4e5b-9933-5b326f0dd7e6",
       "rows": [
        [
         "1933-01-01 00:00:00",
         "25.0",
         "-3.8888888888888893"
        ],
        [
         "1933-01-02 00:00:00",
         "37.0",
         "2.7777777777777777"
        ],
        [
         "1933-01-03 00:00:00",
         "15.0",
         "-9.444444444444445"
        ],
        [
         "1933-01-04 00:00:00",
         "35.0",
         "1.6666666666666667"
        ],
        [
         "1933-01-05 00:00:00",
         "40.0",
         "4.444444444444445"
        ],
        [
         "1933-01-06 00:00:00",
         "23.0",
         "-5.0"
        ],
        [
         "1933-01-07 00:00:00",
         "43.0",
         "6.111111111111112"
        ],
        [
         "1933-01-08 00:00:00",
         "39.0",
         "3.8888888888888893"
        ],
        [
         "1933-01-09 00:00:00",
         "35.0",
         "1.6666666666666667"
        ],
        [
         "1933-01-10 00:00:00",
         "22.0",
         "-5.555555555555555"
        ],
        [
         "1933-01-11 00:00:00",
         "26.0",
         "-3.3333333333333335"
        ],
        [
         "1933-01-12 00:00:00",
         "36.0",
         "2.2222222222222223"
        ],
        [
         "1933-01-13 00:00:00",
         "36.0",
         "2.2222222222222223"
        ],
        [
         "1933-01-14 00:00:00",
         "38.0",
         "3.3333333333333335"
        ],
        [
         "1933-01-15 00:00:00",
         "3.0",
         "-16.11111111111111"
        ],
        [
         "1933-01-16 00:00:00",
         "-5.0",
         "-20.555555555555557"
        ],
        [
         "1933-01-17 00:00:00",
         "5.0",
         "-15.0"
        ],
        [
         "1933-01-18 00:00:00",
         "6.0",
         "-14.444444444444445"
        ],
        [
         "1933-01-19 00:00:00",
         "20.0",
         "-6.666666666666667"
        ],
        [
         "1933-01-20 00:00:00",
         "22.0",
         "-5.555555555555555"
        ],
        [
         "1933-01-21 00:00:00",
         "30.0",
         "-1.1111111111111112"
        ],
        [
         "1933-01-22 00:00:00",
         "20.0",
         "-6.666666666666667"
        ],
        [
         "1933-01-23 00:00:00",
         "26.0",
         "-3.3333333333333335"
        ],
        [
         "1933-01-24 00:00:00",
         "20.0",
         "-6.666666666666667"
        ],
        [
         "1933-01-25 00:00:00",
         "24.0",
         "-4.444444444444445"
        ],
        [
         "1933-01-26 00:00:00",
         "23.0",
         "-5.0"
        ],
        [
         "1933-01-27 00:00:00",
         "31.0",
         "-0.5555555555555556"
        ],
        [
         "1933-01-28 00:00:00",
         "21.0",
         "-6.111111111111112"
        ],
        [
         "1933-01-29 00:00:00",
         "9.0",
         "-12.777777777777779"
        ],
        [
         "1933-01-30 00:00:00",
         "17.0",
         "-8.333333333333334"
        ],
        [
         "1933-01-31 00:00:00",
         "19.0",
         "-7.222222222222222"
        ],
        [
         "1933-02-01 00:00:00",
         "21.0",
         "-6.111111111111112"
        ],
        [
         "1933-02-02 00:00:00",
         "16.0",
         "-8.88888888888889"
        ],
        [
         "1933-02-03 00:00:00",
         "23.0",
         "-5.0"
        ],
        [
         "1933-02-04 00:00:00",
         "27.0",
         "-2.7777777777777777"
        ],
        [
         "1933-02-05 00:00:00",
         "36.0",
         "2.2222222222222223"
        ],
        [
         "1933-02-06 00:00:00",
         "-13.0",
         "-25.0"
        ],
        [
         "1933-02-07 00:00:00",
         "-10.0",
         "-23.333333333333336"
        ],
        [
         "1933-02-08 00:00:00",
         "-24.0",
         "-31.111111111111114"
        ],
        [
         "1933-02-09 00:00:00",
         "-22.0",
         "-30.0"
        ],
        [
         "1933-02-10 00:00:00",
         "7.0",
         "-13.88888888888889"
        ],
        [
         "1933-02-11 00:00:00",
         "26.0",
         "-3.3333333333333335"
        ],
        [
         "1933-02-12 00:00:00",
         "0.0",
         "-17.77777777777778"
        ],
        [
         "1933-02-13 00:00:00",
         "-1.0",
         "-18.333333333333336"
        ],
        [
         "1933-02-14 00:00:00",
         "13.0",
         "-10.555555555555555"
        ],
        [
         "1933-02-15 00:00:00",
         "25.0",
         "-3.8888888888888893"
        ],
        [
         "1933-02-16 00:00:00",
         "23.0",
         "-5.0"
        ],
        [
         "1933-02-17 00:00:00",
         "19.0",
         "-7.222222222222222"
        ],
        [
         "1933-02-18 00:00:00",
         "18.0",
         "-7.777777777777779"
        ],
        [
         "1933-02-19 00:00:00",
         "26.0",
         "-3.3333333333333335"
        ]
       ],
       "shape": {
        "columns": 2,
        "rows": 33455
       }
      },
      "text/html": [
       "<div>\n",
       "<style scoped>\n",
       "    .dataframe tbody tr th:only-of-type {\n",
       "        vertical-align: middle;\n",
       "    }\n",
       "\n",
       "    .dataframe tbody tr th {\n",
       "        vertical-align: top;\n",
       "    }\n",
       "\n",
       "    .dataframe thead th {\n",
       "        text-align: right;\n",
       "    }\n",
       "</style>\n",
       "<table border=\"1\" class=\"dataframe\">\n",
       "  <thead>\n",
       "    <tr style=\"text-align: right;\">\n",
       "      <th></th>\n",
       "      <th>temp_f</th>\n",
       "      <th>temp_c</th>\n",
       "    </tr>\n",
       "    <tr>\n",
       "      <th>DATE</th>\n",
       "      <th></th>\n",
       "      <th></th>\n",
       "    </tr>\n",
       "  </thead>\n",
       "  <tbody>\n",
       "    <tr>\n",
       "      <th>1933-01-01</th>\n",
       "      <td>25.0</td>\n",
       "      <td>-3.888889</td>\n",
       "    </tr>\n",
       "    <tr>\n",
       "      <th>1933-01-02</th>\n",
       "      <td>37.0</td>\n",
       "      <td>2.777778</td>\n",
       "    </tr>\n",
       "    <tr>\n",
       "      <th>1933-01-03</th>\n",
       "      <td>15.0</td>\n",
       "      <td>-9.444444</td>\n",
       "    </tr>\n",
       "    <tr>\n",
       "      <th>1933-01-04</th>\n",
       "      <td>35.0</td>\n",
       "      <td>1.666667</td>\n",
       "    </tr>\n",
       "    <tr>\n",
       "      <th>1933-01-05</th>\n",
       "      <td>40.0</td>\n",
       "      <td>4.444444</td>\n",
       "    </tr>\n",
       "    <tr>\n",
       "      <th>...</th>\n",
       "      <td>...</td>\n",
       "      <td>...</td>\n",
       "    </tr>\n",
       "    <tr>\n",
       "      <th>2024-12-27</th>\n",
       "      <td>35.0</td>\n",
       "      <td>1.666667</td>\n",
       "    </tr>\n",
       "    <tr>\n",
       "      <th>2024-12-28</th>\n",
       "      <td>38.0</td>\n",
       "      <td>3.333333</td>\n",
       "    </tr>\n",
       "    <tr>\n",
       "      <th>2024-12-29</th>\n",
       "      <td>34.0</td>\n",
       "      <td>1.111111</td>\n",
       "    </tr>\n",
       "    <tr>\n",
       "      <th>2024-12-30</th>\n",
       "      <td>28.0</td>\n",
       "      <td>-2.222222</td>\n",
       "    </tr>\n",
       "    <tr>\n",
       "      <th>2024-12-31</th>\n",
       "      <td>29.0</td>\n",
       "      <td>-1.666667</td>\n",
       "    </tr>\n",
       "  </tbody>\n",
       "</table>\n",
       "<p>33455 rows × 2 columns</p>\n",
       "</div>"
      ],
      "text/plain": [
       "            temp_f    temp_c\n",
       "DATE                        \n",
       "1933-01-01    25.0 -3.888889\n",
       "1933-01-02    37.0  2.777778\n",
       "1933-01-03    15.0 -9.444444\n",
       "1933-01-04    35.0  1.666667\n",
       "1933-01-05    40.0  4.444444\n",
       "...            ...       ...\n",
       "2024-12-27    35.0  1.666667\n",
       "2024-12-28    38.0  3.333333\n",
       "2024-12-29    34.0  1.111111\n",
       "2024-12-30    28.0 -2.222222\n",
       "2024-12-31    29.0 -1.666667\n",
       "\n",
       "[33455 rows x 2 columns]"
      ]
     },
     "execution_count": 8,
     "metadata": {},
     "output_type": "execute_result"
    }
   ],
   "source": [
    "# Clean up the DataFrame items and labels\n",
    "\n",
    "# This step removes Station ID name as we don't need it in the DF,\n",
    "# removes years with many NaNs, it renames 'TOBS' to temp_f, \n",
    "# and adds a column converted to Celsius.\n",
    "\n",
    "bzn_t_int_df = bzn_t_raw_df[['TOBS']]\n",
    "bzn_t_df = bzn_t_int_df[(\n",
    "    pd.to_datetime(bzn_t_raw_df.index).year >= 1933) \n",
    "    & \n",
    "    (pd.to_datetime(bzn_t_raw_df.index).year <= 2024)]\n",
    "bzn_t_df = bzn_t_df.dropna()\n",
    "bzn_t_df = bzn_t_df.rename(columns={'TOBS':'temp_f'})\n",
    "bzn_t_df['temp_c'] = (bzn_t_df['temp_f'] - 32) * (5 / 9)\n",
    "bzn_t_df"
   ]
  },
  {
   "cell_type": "markdown",
   "id": "5c47be33",
   "metadata": {},
   "source": [
    "# Looking into the data a bit more here\n",
    "# As it turns out, this way could have worked, but I feel pretty good \n",
    "# about just looking through the dataframe. I'm going to save this for now though.\n",
    "\n",
    "s = bzn_t_raw_df[pd.to_datetime(bzn_t_raw_df.index).year == 1925]\n",
    "# Awesome! So I can use this formula to pull out years:\n",
    "# df[pd.to_datetime(df.index).year == YYYY]\n",
    "# Presumably I could use more conditionals to pull out a length of years\n",
    "\n",
    "s.isna().sum()\n",
    "# This tells me how many entries in the given year are NaNs\n",
    "# I think I can write a for loop to check every year.\n",
    "\n",
    "# For loop to check how many NaNs are in each year\n",
    "\n",
    "# Make an index for the for loop\n",
    "ind = pd.date_range(\"1892\", \"2024\", freq=\"A\").year\n",
    "ind\n",
    "\n",
    "\n",
    "# This variable will store the number of NaNs in each year\n",
    "check_nan = []\n",
    "\n",
    "for item in ind:\n",
    "    s = bzn_t_raw_df[pd.to_datetime(bzn_t_raw_df.index).year == item]\n",
    "    check_nan[item] = s['TOBS'].isna().sum()\n",
    "\n"
   ]
  },
  {
   "cell_type": "markdown",
   "id": "7e175191",
   "metadata": {},
   "source": [
    "## Plotting the Data"
   ]
  },
  {
   "cell_type": "code",
   "execution_count": 9,
   "id": "a10eab6a",
   "metadata": {},
   "outputs": [
    {
     "data": {
      "text/plain": [
       "<Axes: title={'center': 'Daily Temperature in Bozeman, MT'}, xlabel='Year', ylabel='Temperature ($^\\\\circ$F)'>"
      ]
     },
     "execution_count": 9,
     "metadata": {},
     "output_type": "execute_result"
    },
    {
     "data": {
      "image/png": "[encoded data removed]",
      "text/plain": [
       "<Figure size 640x480 with 1 Axes>"
      ]
     },
     "metadata": {},
     "output_type": "display_data"
    }
   ],
   "source": [
    "# Plot data as a line plot\n",
    "\n",
    "bzn_t_df.plot(\n",
    "    y= 'temp_f',\n",
    "    title='Daily Temperature in Bozeman, MT',\n",
    "    xlabel='Year',\n",
    "    ylabel='Temperature ($^\\circ$F)',\n",
    "    legend=False\n",
    "    )"
   ]
  },
  {
   "cell_type": "markdown",
   "id": "216f2489",
   "metadata": {},
   "source": [
    "This plot looks much more like what I'd expect to see."
   ]
  },
  {
   "cell_type": "markdown",
   "id": "1249a77b",
   "metadata": {},
   "source": [
    "\n",
    "## Resample the data to an annual mean and plot interactively\n"
   ]
  },
  {
   "cell_type": "code",
   "execution_count": 10,
   "id": "0d20360a",
   "metadata": {},
   "outputs": [
    {
     "data": {
      "application/vnd.microsoft.datawrangler.viewer.v0+json": {
       "columns": [
        {
         "name": "DATE",
         "rawType": "datetime64[ns]",
         "type": "datetime"
        },
        {
         "name": "temp_f",
         "rawType": "float64",
         "type": "float"
        },
        {
         "name": "temp_c",
         "rawType": "float64",
         "type": "float"
        }
       ],
       "ref": "28cba1c3-fffe-4a78-a703-4577fb03ae3d",
       "rows": [
        [
         "1933-12-31 00:00:00",
         "48.652054794520545",
         "9.251141552511417"
        ],
        [
         "1934-12-31 00:00:00",
         "52.61369863013699",
         "11.452054794520548"
        ],
        [
         "1935-12-31 00:00:00",
         "47.43287671232877",
         "8.573820395738204"
        ],
        [
         "1936-12-31 00:00:00",
         "48.01092896174863",
         "8.894960534304797"
        ],
        [
         "1937-12-31 00:00:00",
         "46.83013698630137",
         "8.23896499238965"
        ],
        [
         "1938-12-31 00:00:00",
         "48.652054794520545",
         "9.251141552511417"
        ],
        [
         "1939-12-31 00:00:00",
         "50.58904109589041",
         "10.327245053272451"
        ],
        [
         "1940-12-31 00:00:00",
         "49.35792349726776",
         "9.643290831815422"
        ],
        [
         "1941-12-31 00:00:00",
         "48.487671232876714",
         "9.159817351598173"
        ],
        [
         "1942-12-31 00:00:00",
         "47.34615384615385",
         "8.525641025641026"
        ],
        [
         "1943-12-31 00:00:00",
         "49.09041095890411",
         "9.494672754946729"
        ],
        [
         "1944-12-31 00:00:00",
         "48.89617486338798",
         "9.38676381299332"
        ],
        [
         "1945-12-31 00:00:00",
         "48.51239669421488",
         "9.173553719008265"
        ],
        [
         "1946-12-31 00:00:00",
         "47.950413223140494",
         "8.861340679522499"
        ],
        [
         "1947-12-31 00:00:00",
         "48.00550964187328",
         "8.89194980104071"
        ],
        [
         "1948-12-31 00:00:00",
         "45.6078431372549",
         "7.559912854030502"
        ],
        [
         "1949-12-31 00:00:00",
         "45.63428571428572",
         "7.574603174603175"
        ],
        [
         "1950-12-31 00:00:00",
         "44.29050279329609",
         "6.828057107386716"
        ],
        [
         "1951-12-31 00:00:00",
         "45.37014925373134",
         "7.427860696517413"
        ],
        [
         "1952-12-31 00:00:00",
         "48.13661202185792",
         "8.964784456587736"
        ],
        [
         "1953-12-31 00:00:00",
         "50.76438356164383",
         "10.424657534246576"
        ],
        [
         "1954-12-31 00:00:00",
         "48.777472527472526",
         "9.32081807081807"
        ],
        [
         "1955-12-31 00:00:00",
         "44.413698630136984",
         "6.896499238964992"
        ],
        [
         "1956-12-31 00:00:00",
         "47.367123287671234",
         "8.537290715372908"
        ],
        [
         "1957-12-31 00:00:00",
         "47.202739726027396",
         "8.445966514459665"
        ],
        [
         "1958-12-31 00:00:00",
         "49.48219178082192",
         "9.712328767123287"
        ],
        [
         "1959-12-31 00:00:00",
         "47.10989010989011",
         "8.394383394383395"
        ],
        [
         "1960-12-31 00:00:00",
         "48.02459016393443",
         "8.902550091074682"
        ],
        [
         "1961-12-31 00:00:00",
         "48.86027397260274",
         "9.366818873668189"
        ],
        [
         "1962-12-31 00:00:00",
         "47.93150684931507",
         "8.850837138508371"
        ],
        [
         "1963-12-31 00:00:00",
         "49.8600583090379",
         "9.922254616132168"
        ],
        [
         "1964-12-31 00:00:00",
         "49.05191256830601",
         "9.473284760170007"
        ],
        [
         "1965-12-31 00:00:00",
         "48.797260273972604",
         "9.331811263318114"
        ],
        [
         "1966-12-31 00:00:00",
         "51.18630136986302",
         "10.659056316590563"
        ],
        [
         "1967-12-31 00:00:00",
         "49.83791208791209",
         "9.90995115995116"
        ],
        [
         "1968-12-31 00:00:00",
         "48.19945355191257",
         "8.999696417729206"
        ],
        [
         "1969-12-31 00:00:00",
         "49.23013698630137",
         "9.572298325722985"
        ],
        [
         "1970-12-31 00:00:00",
         "50.28493150684932",
         "10.158295281582953"
        ],
        [
         "1971-12-31 00:00:00",
         "49.868493150684934",
         "9.926940639269407"
        ],
        [
         "1972-12-31 00:00:00",
         "49.450819672131146",
         "9.694899817850638"
        ],
        [
         "1973-12-31 00:00:00",
         "49.83516483516483",
         "9.908424908424909"
        ],
        [
         "1974-12-31 00:00:00",
         "51.9972602739726",
         "11.10958904109589"
        ],
        [
         "1975-12-31 00:00:00",
         "47.66483516483517",
         "8.702686202686202"
        ],
        [
         "1976-12-31 00:00:00",
         "51.78142076502732",
         "10.989678202792957"
        ],
        [
         "1977-12-31 00:00:00",
         "51.295890410958904",
         "10.719939117199392"
        ],
        [
         "1978-12-31 00:00:00",
         "49.24109589041096",
         "9.578386605783866"
        ],
        [
         "1979-12-31 00:00:00",
         "50.652054794520545",
         "10.362252663622526"
        ],
        [
         "1980-12-31 00:00:00",
         "50.75068493150685",
         "10.417047184170471"
        ],
        [
         "1981-12-31 00:00:00",
         "53.04657534246575",
         "11.69254185692542"
        ],
        [
         "1982-12-31 00:00:00",
         "48.07123287671233",
         "8.928462709284627"
        ]
       ],
       "shape": {
        "columns": 2,
        "rows": 92
       }
      },
      "text/html": [
       "<div>\n",
       "<style scoped>\n",
       "    .dataframe tbody tr th:only-of-type {\n",
       "        vertical-align: middle;\n",
       "    }\n",
       "\n",
       "    .dataframe tbody tr th {\n",
       "        vertical-align: top;\n",
       "    }\n",
       "\n",
       "    .dataframe thead th {\n",
       "        text-align: right;\n",
       "    }\n",
       "</style>\n",
       "<table border=\"1\" class=\"dataframe\">\n",
       "  <thead>\n",
       "    <tr style=\"text-align: right;\">\n",
       "      <th></th>\n",
       "      <th>temp_f</th>\n",
       "      <th>temp_c</th>\n",
       "    </tr>\n",
       "    <tr>\n",
       "      <th>DATE</th>\n",
       "      <th></th>\n",
       "      <th></th>\n",
       "    </tr>\n",
       "  </thead>\n",
       "  <tbody>\n",
       "    <tr>\n",
       "      <th>1933-12-31</th>\n",
       "      <td>48.652055</td>\n",
       "      <td>9.251142</td>\n",
       "    </tr>\n",
       "    <tr>\n",
       "      <th>1934-12-31</th>\n",
       "      <td>52.613699</td>\n",
       "      <td>11.452055</td>\n",
       "    </tr>\n",
       "    <tr>\n",
       "      <th>1935-12-31</th>\n",
       "      <td>47.432877</td>\n",
       "      <td>8.573820</td>\n",
       "    </tr>\n",
       "    <tr>\n",
       "      <th>1936-12-31</th>\n",
       "      <td>48.010929</td>\n",
       "      <td>8.894961</td>\n",
       "    </tr>\n",
       "    <tr>\n",
       "      <th>1937-12-31</th>\n",
       "      <td>46.830137</td>\n",
       "      <td>8.238965</td>\n",
       "    </tr>\n",
       "    <tr>\n",
       "      <th>...</th>\n",
       "      <td>...</td>\n",
       "      <td>...</td>\n",
       "    </tr>\n",
       "    <tr>\n",
       "      <th>2020-12-31</th>\n",
       "      <td>52.147945</td>\n",
       "      <td>11.193303</td>\n",
       "    </tr>\n",
       "    <tr>\n",
       "      <th>2021-12-31</th>\n",
       "      <td>53.468493</td>\n",
       "      <td>11.926941</td>\n",
       "    </tr>\n",
       "    <tr>\n",
       "      <th>2022-12-31</th>\n",
       "      <td>51.052055</td>\n",
       "      <td>10.584475</td>\n",
       "    </tr>\n",
       "    <tr>\n",
       "      <th>2023-12-31</th>\n",
       "      <td>52.608219</td>\n",
       "      <td>11.449011</td>\n",
       "    </tr>\n",
       "    <tr>\n",
       "      <th>2024-12-31</th>\n",
       "      <td>54.737705</td>\n",
       "      <td>12.632058</td>\n",
       "    </tr>\n",
       "  </tbody>\n",
       "</table>\n",
       "<p>92 rows × 2 columns</p>\n",
       "</div>"
      ],
      "text/plain": [
       "               temp_f     temp_c\n",
       "DATE                            \n",
       "1933-12-31  48.652055   9.251142\n",
       "1934-12-31  52.613699  11.452055\n",
       "1935-12-31  47.432877   8.573820\n",
       "1936-12-31  48.010929   8.894961\n",
       "1937-12-31  46.830137   8.238965\n",
       "...               ...        ...\n",
       "2020-12-31  52.147945  11.193303\n",
       "2021-12-31  53.468493  11.926941\n",
       "2022-12-31  51.052055  10.584475\n",
       "2023-12-31  52.608219  11.449011\n",
       "2024-12-31  54.737705  12.632058\n",
       "\n",
       "[92 rows x 2 columns]"
      ]
     },
     "execution_count": 10,
     "metadata": {},
     "output_type": "execute_result"
    }
   ],
   "source": [
    "# Resample the data\n",
    "\n",
    "bzn_t_ann_df = bzn_t_df.resample('YE').mean()\n",
    "bzn_t_ann_df"
   ]
  },
  {
   "cell_type": "code",
   "execution_count": 11,
   "id": "07a91a41",
   "metadata": {},
   "outputs": [
    {
     "data": {
      "text/plain": [
       "<Axes: title={'center': 'Daily Temperature in Bozeman, MT'}, xlabel='Year', ylabel='Temperature ($^\\\\circ$ F)'>"
      ]
     },
     "execution_count": 11,
     "metadata": {},
     "output_type": "execute_result"
    },
    {
     "data": {
      "image/png": "[encoded data removed]",
      "text/plain": [
       "<Figure size 640x480 with 1 Axes>"
      ]
     },
     "metadata": {},
     "output_type": "display_data"
    }
   ],
   "source": [
    "# Plot the data to make sure this looks better\n",
    "\n",
    "bzn_t_ann_plot = bzn_t_ann_df.plot(\n",
    "    y= 'temp_f',\n",
    "    title='Daily Temperature in Bozeman, MT',\n",
    "    xlabel='Year',\n",
    "    ylabel='Temperature ($^\\circ$ F)',\n",
    "    legend=False\n",
    ")\n",
    "\n",
    "bzn_t_ann_plot"
   ]
  },
  {
   "cell_type": "markdown",
   "id": "eef4ae7c",
   "metadata": {},
   "source": [
    "### Interpretation\n",
    "\n",
    "The erroneous high value has been smoothed out, as I suspected. In addition, it looks like there's a pretty clear warming trend going on in the data."
   ]
  },
  {
   "cell_type": "code",
   "execution_count": 12,
   "id": "5c7370d9",
   "metadata": {},
   "outputs": [],
   "source": [
    "# Make an interactive plot\n",
    "\n",
    "bzn_t_ann_plot_int = bzn_t_ann_df.hvplot(\n",
    "    y= 'temp_f',\n",
    "    title='Daily Temperature in Bozeman, MT',\n",
    "    xlabel='Year',\n",
    "    ylabel='Temperature ($^\\circ$ F)',\n",
    "    legend=False   \n",
    ")\n",
    "\n",
    "bzn_t_ann_plot_int\n",
    "\n",
    "# Save plot\n",
    "\n",
    "hv.save(bzn_t_ann_plot_int, 'bzn_t_ann_plot_int.html')"
   ]
  },
  {
   "cell_type": "markdown",
   "id": "1558b4d5",
   "metadata": {},
   "source": [
    "\n",
    "## Fit a linear regression to the data\n"
   ]
  },
  {
   "cell_type": "code",
   "execution_count": 13,
   "id": "3bec50b0",
   "metadata": {},
   "outputs": [
    {
     "name": "stdout",
     "output_type": "stream",
     "text": [
      "Slope: 0.05656073398035132\n",
      "Intercept: -61.755624609733154\n"
     ]
    }
   ],
   "source": [
    "# Fit an OLS Linear Regression to the data (ChatGPT query)\n",
    "# I have marked ChatGPT comments with double hashtags (##)\n",
    "\n",
    "from sklearn.linear_model import LinearRegression\n",
    "import numpy as np\n",
    "\n",
    "# Reset the DataFrame index to a column within the DataFrame. I have abbreviated the \n",
    "# variable name to bzn_t_reind_df so it doesn't get unwieldy.\n",
    "## Assuming df is your DataFrame with 'Year' as the index and 'Temperature' as the column\n",
    "bzn_t_reind_df = bzn_t_ann_df.reset_index()\n",
    "\n",
    "# Further clean the DataFrame to work with Seaborn and scikit.\n",
    "# The way 'DATE' is formatted causes errors with regplot(), so I need to just select the \n",
    "# year out of 'DATE'.\n",
    "# Clean the data of NaNs before calculating the fit (Google Gemini)\n",
    "\n",
    "bzn_t_reind_df['DATE'] = pd.to_datetime(bzn_t_reind_df['DATE'])\n",
    "bzn_t_reind_df['year'] = bzn_t_reind_df['DATE'].dt.year\n",
    "bzn_t_lin_reg_df = bzn_t_reind_df.dropna()\n",
    "\n",
    "## Reshape 'Year' column to be a 2D array for scikit-learn\n",
    "x = bzn_t_lin_reg_df[['year']].values\n",
    "y_f = bzn_t_lin_reg_df['temp_f'].values\n",
    "\n",
    "## Create and fit the linear regression model\n",
    "model = LinearRegression()\n",
    "model.fit(x, y_f)\n",
    "\n",
    "## Get the slope and intercept\n",
    "slope = model.coef_[0]\n",
    "intercept = model.intercept_\n",
    "\n",
    "## Print the results\n",
    "print(f\"Slope: {slope}\")\n",
    "print(f\"Intercept: {intercept}\")"
   ]
  },
  {
   "cell_type": "markdown",
   "id": "9d6ef6bf",
   "metadata": {},
   "source": [
    "\n",
    "## Plot the linear regression\n"
   ]
  },
  {
   "cell_type": "code",
   "execution_count": 14,
   "id": "043cdd4f",
   "metadata": {},
   "outputs": [
    {
     "data": {
      "image/png": "[encoded data removed]",
      "text/plain": [
       "<Figure size 640x480 with 1 Axes>"
      ]
     },
     "metadata": {},
     "output_type": "display_data"
    }
   ],
   "source": [
    "# Plot annual average temperature with a trend line\n",
    "bzn_plot_linreg = sns.regplot(\n",
    "    x= bzn_t_lin_reg_df[['year']], \n",
    "    y= bzn_t_lin_reg_df[['temp_f']],\n",
    "    data= bzn_t_lin_reg_df,\n",
    "    # type = 'line'\n",
    "    ci= None\n",
    ")\n",
    "# Set plot labels\n",
    "bzn_plot_linreg.set(\n",
    "    title='OLS Regression of Annual Mean Temperature ($^\\circ$F) in Bozeman, MT',\n",
    "    xlabel='Time',\n",
    "    ylabel='Temperature ($^\\circ$F)'\n",
    ")\n",
    "# Save figure andDisplay the plot without extra text\n",
    "plt.savefig('bzn_plot_linreg.png')\n",
    "plt.show()"
   ]
  },
  {
   "cell_type": "markdown",
   "id": "5c14b760",
   "metadata": {},
   "source": [
    "\n",
    "## Wrap up the notebook and get ready to make a portfolio post\n"
   ]
  }
 ],
 "metadata": {
  "kernelspec": {
   "display_name": "earth-analytics-python",
   "language": "python",
   "name": "python3"
  },
  "language_info": {
   "codemirror_mode": {
    "name": "ipython",
    "version": 3
   },
   "file_extension": ".py",
   "mimetype": "text/x-python",
   "name": "python",
   "nbconvert_exporter": "python",
   "pygments_lexer": "ipython3",
   "version": "3.11.13"
  }
 },
 "nbformat": 4,
 "nbformat_minor": 5
}
